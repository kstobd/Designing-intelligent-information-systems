{
 "cells": [
  {
   "cell_type": "markdown",
   "metadata": {},
   "source": [
    "Задачи \n",
    "- Ознакомиться с задачей регрессии \n",
    "- Изучить отличие задачи регрессии от задачи классификации \n",
    "- Создать модель \n",
    "- Настроить параметры обучения \n",
    "- Обучить и оценить модели \n",
    "- Ознакомиться с перекрестной проверкой"
   ]
  },
  {
   "cell_type": "code",
   "execution_count": 10,
   "metadata": {},
   "outputs": [
    {
     "name": "stdout",
     "output_type": "stream",
     "text": [
      "(404, 13)\n",
      "(102, 13)\n",
      "[ 7.2 18.8 19.  27.  22.2 24.5 31.2 22.9 20.5 23.2 18.6 14.5 17.8 50.\n",
      " 20.8 24.3 24.2 19.8 19.1 22.7 12.  10.2 20.  18.5 20.9 23.  27.5 30.1\n",
      "  9.5 22.  21.2 14.1 33.1 23.4 20.1  7.4 15.4 23.8 20.1 24.5 33.  28.4\n",
      " 14.1 46.7 32.5 29.6 28.4 19.8 20.2 25.  35.4 20.3  9.7 14.5 34.9 26.6\n",
      "  7.2 50.  32.4 21.6 29.8 13.1 27.5 21.2 23.1 21.9 13.  23.2  8.1  5.6\n",
      " 21.7 29.6 19.6  7.  26.4 18.9 20.9 28.1 35.4 10.2 24.3 43.1 17.6 15.4\n",
      " 16.2 27.1 21.4 21.5 22.4 25.  16.6 18.6 22.  42.8 35.1 21.5 36.  21.9\n",
      " 24.1 50.  26.7 25. ]\n"
     ]
    }
   ],
   "source": [
    "import numpy as np \n",
    "import matplotlib as plt\n",
    "from tensorflow.keras.layers import Dense \n",
    "from tensorflow.keras.models import Sequential \n",
    "from tensorflow.keras.utils import to_categorical \n",
    "from tensorflow.keras.datasets import boston_housing \n",
    "(train_data, train_targets), (test_data, test_targets) = boston_housing.load_data() \n",
    "print(train_data.shape) \n",
    "print(test_data.shape) \n",
    "print(test_targets)"
   ]
  },
  {
   "cell_type": "markdown",
   "metadata": {},
   "source": [
    "404 обучающих и 102 контрольных образца, каждый с 13 числовыми признаками. \n",
    "Цены в основном находятся в диапазоне от 10 000 до 50 000 долларов США. \n",
    "Было бы проблематично передать в нейронную сеть значения, имеющие самые разные \n",
    "диапазоны. Сеть, конечно, сможет автоматически адаптироваться к таким разнородным \n",
    "данным, однако это усложнит обучение. На практике к таким данным принято применять \n",
    "нормализацию:  для  каждого  признака  во  входных  данных  (столбца  в  матрице  входных \n",
    "данных) из каждого значения вычитается среднее по этому признаку, и разность делится \n",
    "на стандартное отклонение, в результате признак центрируется по нулевому значению и \n",
    "имеет стандартное отклонение, равное единице. Такую нормализацию легко выполнить с \n",
    "помощью Numpy"
   ]
  },
  {
   "cell_type": "code",
   "execution_count": 3,
   "metadata": {},
   "outputs": [],
   "source": [
    "mean = train_data.mean(axis=0) \n",
    "train_data -= mean \n",
    "std = train_data.std(axis=0) \n",
    "train_data /= std \n",
    "test_data -= mean \n",
    "test_data /= std "
   ]
  },
  {
   "cell_type": "code",
   "execution_count": 4,
   "metadata": {},
   "outputs": [],
   "source": [
    "def build_model(): \n",
    "    model = Sequential() \n",
    "    model.add(Dense(64, activation='relu', input_shape=(train_data.shape[1],))) \n",
    "    model.add(Dense(64, activation='relu')) \n",
    "    model.add(Dense(1)) \n",
    "\n",
    "    model.compile(optimizer='rmsprop', loss='mse', metrics=['mae']) \n",
    "    return model "
   ]
  },
  {
   "cell_type": "markdown",
   "metadata": {},
   "source": [
    "Сеть заканчивается одномерным слоем, не имеющим функции активации (это линейный \n",
    "слой).  Это  типичная  конфигурация  для  скалярной  регрессии  (целью  которой  является \n",
    "предсказание одного значения на непрерывной числовой прямой). Применение функции \n",
    "активации могло бы ограничить диапазон выходных значений: например, если в последнем \n",
    "слое  применить  функцию  активации  sigmoid,  сеть  обучилась  бы  предсказывать  только \n",
    "значения из диапазона между 0 и 1. \n",
    "В данном случае, с линейным последним слоем, сеть способна предсказывать значения из \n",
    "любого диапазона. \n",
    "  \n",
    "Обратите внимание на то, что сеть компилируется с функцией потерь mse — mean squared \n",
    "error (среднеквадратичная  ошибка),  вычисляющей  квадрат  разности  между \n",
    "предсказанными и целевыми значениями. Эта функция широко используется в  задачах \n",
    "регрессии. Также добавлен новый параметр на этапе обучения: mae — mean absolute error \n",
    "(средняя абсолютная ошибка). Это абсолютное значение разности между предсказанными \n",
    "и целевыми значениями. Например, значение MAE, равное 0,5, в этой задаче означает, что \n",
    "в среднем прогнозы отклоняются на 500 долларов США. \n",
    "  \n",
    "Чтобы оценить качество сети в ходе корректировки ее параметров (таких, как количество \n",
    "эпох обучения), можно разбить исходные данные на обучающий и проверочный наборы, \n",
    "как это делалось в предыдущих примерах. Однако так как у нас и без того небольшой набор \n",
    "данных, проверочный набор получился бы слишком маленьким (скажем, что-нибудь около \n",
    "100 образцов). Как следствие, оценки при проверке могут сильно меняться в зависимости \n",
    "от того, какие данные попадут в проверочный и обучающий наборы: оценки при проверке \n",
    "могут  иметь  слишком  большой  разброс.  Это  не  позволит  надежно  оценить  качество \n",
    "модели. \n",
    "Хорошей практикой в таких ситуациях является применение перекрестной проверки по K \n",
    "блокам (K-fold cross-validation). Суть ее заключается в разделении доступных данных на K \n",
    "блоков (обычно K = 4 или 5), создании K идентичных моделей и обучении каждой на K—1 \n",
    "блоках с оценкой по оставшимся блокам. По полученным K оценкам вычисляется среднее \n",
    "значение, которое принимается как оценка модели. В коде такая проверка реализуется \n",
    "достаточно просто. "
   ]
  },
  {
   "cell_type": "markdown",
   "metadata": {},
   "source": [
    "Параметры:\n",
    "- k — количество блоков для кросс-валидации (разделений), здесь 4, то есть модель будет обучена на 75% данных и протестирована на 25% данных в каждом из четырёх циклов.\n",
    "- num_val_samples — количество образцов в каждом блоке валидации.\n",
    "- num_epochs — количество эпох обучения для каждой итерации.\n",
    "- all_scores — список для хранения результатов на каждом блоке (средняя абсолютная ошибка)."
   ]
  },
  {
   "cell_type": "code",
   "execution_count": 5,
   "metadata": {},
   "outputs": [],
   "source": [
    "k = 4 \n",
    "num_val_samples = len(train_data) // k \n",
    "num_epochs = 100 \n",
    "all_scores = []"
   ]
  },
  {
   "cell_type": "code",
   "execution_count": 8,
   "metadata": {},
   "outputs": [
    {
     "name": "stdout",
     "output_type": "stream",
     "text": [
      "processing fold # 0\n",
      "processing fold # 1\n",
      "processing fold # 2\n",
      "processing fold # 3\n",
      "2.4901404778162637\n"
     ]
    }
   ],
   "source": [
    " \n",
    "for i in range(k): \n",
    "    print('processing fold #', i) \n",
    "    val_data = train_data[i * num_val_samples: (i + 1) * num_val_samples] \n",
    "    val_targets = train_targets[i * num_val_samples: (i + 1) * num_val_samples] \n",
    "    partial_train_data = np.concatenate([train_data[:i * num_val_samples], train_data[(i + 1) * num_val_samples:]], axis=0) \n",
    "    partial_train_targets = np.concatenate( \n",
    "        [train_targets[:i * num_val_samples], train_targets[(i + 1) * num_val_samples:]], axis=0) \n",
    "\n",
    "    \n",
    "    model = build_model() \n",
    "    model.fit(partial_train_data, partial_train_targets, epochs=num_epochs, batch_size=1, verbose=0) \n",
    "    val_mse, val_mae = model.evaluate(val_data, val_targets, verbose=0) \n",
    "    all_scores.append(val_mae) \n",
    "print(np.mean(all_scores))"
   ]
  },
  {
   "cell_type": "markdown",
   "metadata": {},
   "source": [
    " \n",
    "Разные прогоны действительно показывают разные оценки, от 2,6 до 3,2. Средняя (3,0) \n",
    "выглядит более достоверно, чем любая из оценок отдельных прогонов, — в этом главная \n",
    "ценность перекрестной проверки по K блокам. В данном случае средняя ошибка составила \n",
    "3000 долларов, что довольно много, если вспомнить, что цены колеблются в диапазоне от \n",
    "10 000 до 50 000 долларов."
   ]
  },
  {
   "cell_type": "markdown",
   "metadata": {},
   "source": [
    "Необходимо  уменьшить  или  увеличить  количество  эпох  обучения  и \n",
    "проанализировать полученные результаты "
   ]
  },
  {
   "cell_type": "code",
   "execution_count": 12,
   "metadata": {},
   "outputs": [
    {
     "name": "stdout",
     "output_type": "stream",
     "text": [
      "\n",
      "Training for 50 epochs\n",
      "Processing fold # 0\n",
      "Processing fold # 1\n",
      "Processing fold # 2\n",
      "Processing fold # 3\n",
      "\n",
      "Training for 100 epochs\n",
      "Processing fold # 0\n",
      "Processing fold # 1\n",
      "Processing fold # 2\n",
      "Processing fold # 3\n",
      "\n",
      "Training for 150 epochs\n",
      "Processing fold # 0\n",
      "Processing fold # 1\n",
      "Processing fold # 2\n",
      "Processing fold # 3\n",
      "\n",
      "Training for 200 epochs\n",
      "Processing fold # 0\n",
      "Processing fold # 1\n",
      "Processing fold # 2\n",
      "Processing fold # 3\n"
     ]
    },
    {
     "data": {
      "image/png": "[encoded data removed]",
      "text/plain": [
       "<Figure size 1000x600 with 1 Axes>"
      ]
     },
     "metadata": {},
     "output_type": "display_data"
    }
   ],
   "source": [
    "# Диапазон значений количества эпох для экспериментов\n",
    "epoch_values = [50, 100, 150, 200]\n",
    "results = {}\n",
    "\n",
    "# Перебор различных значений количества эпох\n",
    "for num_epochs in epoch_values:\n",
    "    print(f\"\\nTraining for {num_epochs} epochs\")\n",
    "    all_scores = []\n",
    "    \n",
    "    # Кросс-валидация с 4 блоками\n",
    "    for i in range(k): \n",
    "        print('Processing fold #', i)\n",
    "        val_data = train_data[i * num_val_samples: (i + 1) * num_val_samples]\n",
    "        val_targets = train_targets[i * num_val_samples: (i + 1) * num_val_samples]\n",
    "        partial_train_data = np.concatenate(\n",
    "            [train_data[:i * num_val_samples], train_data[(i + 1) * num_val_samples:]], axis=0)\n",
    "        partial_train_targets = np.concatenate(\n",
    "            [train_targets[:i * num_val_samples], train_targets[(i + 1) * num_val_samples:]], axis=0)\n",
    "        \n",
    "        # Создаём и обучаем модель\n",
    "        model = build_model()\n",
    "        model.fit(partial_train_data, partial_train_targets, epochs=num_epochs, batch_size=1, verbose=0)\n",
    "        \n",
    "        # Оцениваем на валидационной выборке\n",
    "        val_mse, val_mae = model.evaluate(val_data, val_targets, verbose=0)\n",
    "        all_scores.append(val_mae)\n",
    "    \n",
    "    # Сохраняем результаты для текущего значения эпох\n",
    "    results[num_epochs] = all_scores\n",
    "\n",
    "# Построение графиков средних значений MAE для каждого количества эпох\n",
    "import matplotlib.pyplot as plt\n",
    "\n",
    "# Средние ошибки MAE\n",
    "mean_mae_scores = [np.mean(results[epochs]) for epochs in epoch_values]\n",
    "\n",
    "plt.figure(figsize=(10, 6))\n",
    "plt.plot(epoch_values, mean_mae_scores, marker='o')\n",
    "plt.xlabel(\"Number of Epochs\")\n",
    "plt.ylabel(\"Mean MAE on Validation\")\n",
    "plt.title(\"Mean MAE vs. Number of Epochs\")\n",
    "plt.grid()\n",
    "plt.show()"
   ]
  },
  {
   "cell_type": "markdown",
   "metadata": {},
   "source": [
    "### Объяснить различия задач классификации и регрессии "
   ]
  },
  {
   "cell_type": "markdown",
   "metadata": {},
   "source": [
    "1) Задача регрессии – прогноз на основе выборки объектов с различными признаками. На выходе должно получиться вещественное число (2, 35, 76.454 и др.), к примеру цена квартиры, стоимость ценной бумаги по прошествии полугода, ожидаемый доход магазина на следующий месяц, качество вина при слепом тестировании.\n",
    "\n",
    "2) Задача классификации – получение категориального ответа на основе набора признаков. Имеет конечное количество ответов (как правило, в формате «да» или «нет»): есть ли на фотографии кот, является ли изображение человеческим лицом, болен ли пациент раком.\n",
    "\n",
    "3) Задача кластеризации – распределение данных на группы: разделение всех клиентов мобильного оператора по уровню платёжеспособности, отнесение космических объектов к той или иной категории (планета, звёзда, чёрная дыра и т. п.).\n",
    "\n",
    "4) Задача уменьшения размерности – сведение большого числа признаков к меньшему (обычно 2–3) для удобства их последующей визуализации (например, сжатие данных)."
   ]
  }
 ],
 "metadata": {
  "kernelspec": {
   "display_name": "myenv",
   "language": "python",
   "name": "python3"
  },
  "language_info": {
   "codemirror_mode": {
    "name": "ipython",
    "version": 3
   },
   "file_extension": ".py",
   "mimetype": "text/x-python",
   "name": "python",
   "nbconvert_exporter": "python",
   "pygments_lexer": "ipython3",
   "version": "3.9.7"
  }
 },
 "nbformat": 4,
 "nbformat_minor": 2
}
