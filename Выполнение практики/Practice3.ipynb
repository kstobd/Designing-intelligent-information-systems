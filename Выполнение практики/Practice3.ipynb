{
 "cells": [
  {
   "cell_type": "markdown",
   "metadata": {},
   "source": [
    "Примечания к задачам:\n",
    "\n",
    "Необходимо использовать модуль numpy\n",
    "Все данные должны считываться из файла в виде массива numpy\n",
    "Результаты необходимо сохранять в файл\n"
   ]
  },
  {
   "cell_type": "code",
   "execution_count": 59,
   "metadata": {},
   "outputs": [],
   "source": [
    "import numpy as np"
   ]
  },
  {
   "cell_type": "markdown",
   "metadata": {},
   "source": [
    "Генерируем даныые в файл"
   ]
  },
  {
   "cell_type": "code",
   "execution_count": null,
   "metadata": {},
   "outputs": [],
   "source": [
    "import numpy as np\n",
    "\n",
    "# Задача 1: p матриц (n, n) и p векторов (n, 1)\n",
    "n = 3\n",
    "p = 4\n",
    "matrices = [np.random.randint(0, 10, (n, n)) for _ in range(p)]\n",
    "vectors = [np.random.randint(0, 10, (n, 1)) for _ in range(p)]\n",
    "\n",
    "# Задача 2: Вектор чисел для преобразования в матрицу бинарных представлений\n",
    "# Вектор чисел в диапазоне от 0 до 255\n",
    "vector_for_binary = np.random.randint(0, 256, n)\n",
    "\n",
    "# Задача 3: Матрица для поиска уникальных строк\n",
    "matrix_with_duplicates = np.array([[1, 2],\n",
    "                                  [2, 3],\n",
    "                                  [1, 2]])\n",
    "\n",
    "# Задача 4: Размер матрицы (M, N) для заполнения случайными числами\n",
    "M, N = 6, 4  # Матрица 6x4\n",
    "\n",
    "# Задача 5: Размеры матрицы и числа a, b для шахматного заполнения\n",
    "a, b = 1, 2\n",
    "chessboard_size = (5, 5)  # Матрица 5x5\n",
    "\n",
    "# Задача 6: Параметры для изображения круга\n",
    "circle_radius = 5\n",
    "circle_color = [255, 0, 0]  # Красный цвет в RGB\n",
    "\n",
    "# Задача 7: Тензор для стандартизации\n",
    "tensor_for_standardization = np.random.rand(4, 4, 3)  # Пример 3D массив\n",
    "\n",
    "# Задача 8: Матрица и параметры для выделения части с центром в заданном элементе\n",
    "matrix_for_crop = np.random.randint(0, 10, (8, 8))\n",
    "crop_size = (3, 3)  # Размер выделяемой части\n",
    "center_position = (4, 4)  # Центр выделяемой части\n",
    "fill_value = -1\n",
    "\n",
    "# Задача 9: Матрица для поиска самого часто встречающегося числа в каждой строке\n",
    "matrix_for_counters = np.random.randint(0, 5, (5, 10))\n",
    "\n",
    "# Задача 10: 3D массив для изображения и вектор весов\n",
    "height, width, numChannels = 6, 6, 3\n",
    "image_array = np.random.randint(0, 256, (height, width, numChannels))\n",
    "channel_weights = np.array([0.3, 0.6, 0.1])\n",
    "\n",
    "# Сохраняем все данные в файл\n",
    "with open(\"input_data.npz\", \"wb\") as f:\n",
    "    np.savez(f,\n",
    "             matrices=matrices,\n",
    "             vectors=vectors,\n",
    "             vector_for_binary=vector_for_binary,\n",
    "             matrix_with_duplicates=matrix_with_duplicates,\n",
    "             M=M, N=N,\n",
    "             a=a, b=b, chessboard_size=chessboard_size,\n",
    "             circle_radius=circle_radius, circle_color=circle_color,\n",
    "             tensor_for_standardization=tensor_for_standardization,\n",
    "             matrix_for_crop=matrix_for_crop, crop_size=crop_size,\n",
    "             center_position=center_position, fill_value=fill_value,\n",
    "             matrix_for_counters=matrix_for_counters,\n",
    "             image_array=image_array, channel_weights=channel_weights)"
   ]
  },
  {
   "cell_type": "markdown",
   "metadata": {},
   "source": [
    "Загружаем данные из файла"
   ]
  },
  {
   "cell_type": "code",
   "execution_count": 150,
   "metadata": {},
   "outputs": [],
   "source": [
    "data = np.load('input_data.npz')"
   ]
  },
  {
   "cell_type": "markdown",
   "metadata": {},
   "source": [
    "Перезаписываем перемнные из файла"
   ]
  },
  {
   "cell_type": "code",
   "execution_count": 151,
   "metadata": {},
   "outputs": [],
   "source": [
    "locals().update(data)"
   ]
  },
  {
   "cell_type": "markdown",
   "metadata": {},
   "source": [
    "Задача 1\n",
    "Дано множество из p матриц (n,n) и множество из p векторов (n,1). Написать функцию для рассчета суммы p произведений матриц (результат имеет размерность (n,1))\n"
   ]
  },
  {
   "cell_type": "code",
   "execution_count": 63,
   "metadata": {},
   "outputs": [],
   "source": [
    "def sum_of_multiply_of_matrices(matrices, vectors):\n",
    "    result = sum(\n",
    "        np.dot(matrix, vector)\n",
    "        for matrix, vector in zip(matrices, vectors))\n",
    "    return result"
   ]
  },
  {
   "cell_type": "code",
   "execution_count": 64,
   "metadata": {},
   "outputs": [
    {
     "name": "stdout",
     "output_type": "stream",
     "text": [
      "Входные данные: [[[2 5 6]\n",
      "  [2 3 9]\n",
      "  [0 4 8]]\n",
      "\n",
      " [[9 8 4]\n",
      "  [3 9 8]\n",
      "  [7 4 1]]\n",
      "\n",
      " [[2 0 1]\n",
      "  [9 1 1]\n",
      "  [8 5 5]]\n",
      "\n",
      " [[7 7 9]\n",
      "  [0 9 4]\n",
      "  [1 3 2]]] [[[1]\n",
      "  [9]\n",
      "  [2]]\n",
      "\n",
      " [[3]\n",
      "  [7]\n",
      "  [9]]\n",
      "\n",
      " [[2]\n",
      "  [2]\n",
      "  [7]]\n",
      "\n",
      " [[0]\n",
      "  [4]\n",
      "  [4]]]\n",
      "Результат:\n",
      " [[253]\n",
      " [270]\n",
      " [191]]\n"
     ]
    }
   ],
   "source": [
    "print(\"Входные данные:\", matrices, vectors)\n",
    "print(\"Результат:\\n\", sum_of_multiply_of_matrices(matrices, vectors))"
   ]
  },
  {
   "cell_type": "markdown",
   "metadata": {},
   "source": [
    "\n",
    "Задача 2\n",
    "Написать функцию преобразовывающую вектор чисел в матрицу бинарных представлений.\n"
   ]
  },
  {
   "cell_type": "code",
   "execution_count": 65,
   "metadata": {},
   "outputs": [],
   "source": [
    "def vector_to_binary_matrix(vector):\n",
    "    binary_matrix = np.array(\n",
    "        [np.binary_repr(num, 8) for num in vector])\n",
    "    return binary_matrix"
   ]
  },
  {
   "cell_type": "code",
   "execution_count": 70,
   "metadata": {},
   "outputs": [
    {
     "name": "stdout",
     "output_type": "stream",
     "text": [
      "Входные данные:\n",
      " [ 84  14 218]\n",
      "Результат\n",
      " ['01010100' '00001110' '11011010']\n"
     ]
    }
   ],
   "source": [
    "print(\"Входные данные:\\n\", vector_for_binary)\n",
    "print(\"Результат\\n\", vector_to_binary_matrix(vector_for_binary))"
   ]
  },
  {
   "cell_type": "markdown",
   "metadata": {},
   "source": [
    "\n",
    "Задача 3\n",
    "Написать функцию, которая возвращает все уникальные строки матрицы\n"
   ]
  },
  {
   "cell_type": "code",
   "execution_count": 67,
   "metadata": {},
   "outputs": [],
   "source": [
    "def uniq(matrix):\n",
    "    return np.unique(matrix, axis=0)"
   ]
  },
  {
   "cell_type": "code",
   "execution_count": 69,
   "metadata": {},
   "outputs": [
    {
     "name": "stdout",
     "output_type": "stream",
     "text": [
      "Входные данные:\n",
      " [[1 2]\n",
      " [2 3]\n",
      " [1 2]]\n",
      "Результат\n",
      " [[1 2]\n",
      " [2 3]]\n"
     ]
    }
   ],
   "source": [
    "print(\"Входные данные:\\n\", matrix_with_duplicates)\n",
    "print(\"Результат\\n\", uniq(matrix_with_duplicates))"
   ]
  },
  {
   "cell_type": "markdown",
   "metadata": {},
   "source": [
    "\n",
    "Задача 4\n",
    "Написать функцию, которая заполняет матрицу с размерами (M,N) случайными числами распределенными по нормальному закону. Затем считает мат. ожидание и дисперсию для каждого из столбцов, а также строит для каждой строки стоит гистограмму значений (использовать функцию hist из модуля matplotlib.plot)\n"
   ]
  },
  {
   "cell_type": "code",
   "execution_count": 75,
   "metadata": {},
   "outputs": [],
   "source": [
    "import matplotlib.pyplot as plt\n",
    "\n",
    "\n",
    "def random_matrix_statistics(M, N):\n",
    "    # Матрица с нормальным распределением\n",
    "    matrix = np.random.normal(loc=0, scale=1, size=(M, N))\n",
    "    mean = matrix.mean(axis=0)\n",
    "\n",
    "    variance = matrix.var(axis=0)\n",
    "\n",
    "    # Строим гистограммы\n",
    "    for i, row in enumerate(matrix):\n",
    "        plt.hist(row, bins=10, alpha=0.7, label=f\"Row {i + 1}\")\n",
    "    plt.title(\"Гистограммы строк матрицы\")\n",
    "    plt.legend()\n",
    "    plt.show()\n",
    "\n",
    "    return matrix, mean, variance"
   ]
  },
  {
   "cell_type": "code",
   "execution_count": 76,
   "metadata": {},
   "outputs": [
    {
     "data": {
      "image/png": "[encoded data removed]",
      "text/plain": [
       "<Figure size 640x480 with 1 Axes>"
      ]
     },
     "metadata": {},
     "output_type": "display_data"
    },
    {
     "name": "stdout",
     "output_type": "stream",
     "text": [
      "Сгенерированная матрица:\n",
      " [[-0.25427666 -0.32085667 -0.1177619   0.65119672]\n",
      " [ 0.76544855 -0.36348786  1.39499903  0.07189928]\n",
      " [ 1.65015945  0.08712956  1.03795984 -0.95085643]\n",
      " [ 0.37472362  0.4060018   1.44910903 -0.01172766]\n",
      " [-0.24669201  0.16741788  0.99643822 -0.19127408]\n",
      " [ 0.98095093  1.47403716 -0.19066574 -1.46518304]]\n",
      "Мат. ожидание по столбцам:\n",
      " [ 0.54505231  0.24170698  0.76167975 -0.31599087]\n",
      "Дисперсия по столбцам:\n",
      " [0.45910694 0.37629703 0.44757902 0.48628965]\n"
     ]
    }
   ],
   "source": [
    "matrix, mean, variance = random_matrix_statistics(data[\"M\"], data[\"N\"])\n",
    "print(\"Сгенерированная матрица:\\n\", matrix)\n",
    "print(\"Мат. ожидание по столбцам:\\n\", mean)\n",
    "print(\"Дисперсия по столбцам:\\n\", variance)"
   ]
  },
  {
   "cell_type": "markdown",
   "metadata": {},
   "source": [
    "\n",
    "Задача 5\n",
    "Написать функцию, которая заполняет матрицу (M,N) в шахматном порядке заданными числами a и b.\n"
   ]
  },
  {
   "cell_type": "code",
   "execution_count": 77,
   "metadata": {},
   "outputs": [],
   "source": [
    "def chessboard_matrix(shape, a, b):\n",
    "    \"\"\"\n",
    "    Создает матрицу с заданным размером, заполненную в шахматном порядке числами `a` и `b`.\n",
    "    \"\"\"\n",
    "    M, N = shape\n",
    "    chessboard = np.zeros((M, N), dtype=int)\n",
    "    chessboard[::2, ::2] = a  # Чётные строки, чётные столбцы\n",
    "    chessboard[1::2, 1::2] = a  # Нечётные строки, нечётные столбцы\n",
    "    chessboard[::2, 1::2] = b  # Чётные строки, нечётные столбцы\n",
    "    chessboard[1::2, ::2] = b  # Нечётные строки, чётные столбцы\n",
    "    return chessboard"
   ]
  },
  {
   "cell_type": "code",
   "execution_count": 82,
   "metadata": {},
   "outputs": [
    {
     "name": "stdout",
     "output_type": "stream",
     "text": [
      "Входные данные:\n",
      " [5 5] 1 2\n",
      "Результат\n",
      " [[1 2 1 2 1]\n",
      " [2 1 2 1 2]\n",
      " [1 2 1 2 1]\n",
      " [2 1 2 1 2]\n",
      " [1 2 1 2 1]]\n"
     ]
    }
   ],
   "source": [
    "print(\"Входные данные:\\n\", chessboard_size, a, b)\n",
    "print(\"Результат\\n\", chessboard_matrix(chessboard_size, a, b))"
   ]
  },
  {
   "cell_type": "markdown",
   "metadata": {},
   "source": [
    "\n",
    "Задача 6\n",
    "Написать функцию, которая возвращает тензор представляющий изображение круга с заданным цветом и радиусом в схеме rgd на черном фоне.\n"
   ]
  },
  {
   "cell_type": "code",
   "execution_count": 121,
   "metadata": {},
   "outputs": [],
   "source": [
    "def generate_circle_image(radius: int, color: list, image_size=(100, 100)):\n",
    "    height, width = image_size\n",
    "    y, x = np.ogrid[:height, :width]\n",
    "    center = (height // 2, width // 2)\n",
    "    mask = (x - center[1])**2 + (y - center[0])**2 <= radius**2\n",
    "    image = np.zeros((height, width, 3))\n",
    "    image[mask] = color\n",
    "    return image"
   ]
  },
  {
   "cell_type": "code",
   "execution_count": 124,
   "metadata": {},
   "outputs": [
    {
     "name": "stderr",
     "output_type": "stream",
     "text": [
      "Clipping input data to the valid range for imshow with RGB data ([0..1] for floats or [0..255] for integers). Got range [0.0..255.0].\n"
     ]
    },
    {
     "data": {
      "image/png": "[encoded data removed]",
      "text/plain": [
       "<Figure size 640x480 with 1 Axes>"
      ]
     },
     "metadata": {},
     "output_type": "display_data"
    }
   ],
   "source": [
    "circle_image = generate_circle_image(100, color, (1000, 1000))\n",
    "\n",
    "plt.imshow(circle_image)\n",
    "plt.title(\"Изображение круга\")\n",
    "plt.axis(\"off\")\n",
    "plt.show()"
   ]
  },
  {
   "cell_type": "markdown",
   "metadata": {},
   "source": [
    "\n",
    "Задача 7\n",
    "Написать функцию, которая стандартизирует все значения тензор (отнять мат. ожидание и поделить на СКО)\n"
   ]
  },
  {
   "cell_type": "code",
   "execution_count": 125,
   "metadata": {},
   "outputs": [],
   "source": [
    "def standardize_tensor(tensor):\n",
    "    return (tensor.mean() - tensor.std()) / tensor.std()"
   ]
  },
  {
   "cell_type": "code",
   "execution_count": null,
   "metadata": {},
   "outputs": [
    {
     "name": "stdout",
     "output_type": "stream",
     "text": [
      "Входные данные:  [[[0.31088428 0.48985779 0.56015779]\n",
      "  [0.48347506 0.44703058 0.3265738 ]\n",
      "  [0.6591088  0.37807008 0.74977253]\n",
      "  [0.15731927 0.6569766  0.5441686 ]]\n",
      "\n",
      " [[0.4475063  0.16954018 0.8206201 ]\n",
      "  [0.70587487 0.69301214 0.15933242]\n",
      "  [0.51693126 0.7031371  0.33003434]\n",
      "  [0.01994446 0.47912342 0.49664475]]\n",
      "\n",
      " [[0.95422451 0.36476131 0.87669202]\n",
      "  [0.11331225 0.13455919 0.9997159 ]\n",
      "  [0.40871139 0.57485908 0.09241044]\n",
      "  [0.76050415 0.61315543 0.18298003]]\n",
      "\n",
      " [[0.08356824 0.81353664 0.94341742]\n",
      "  [0.9623935  0.4753673  0.44779634]\n",
      "  [0.46994127 0.0152495  0.87835712]\n",
      "  [0.27425788 0.90558264 0.90652583]]]\n",
      "Стандартизированный тензор:\n",
      " 0.8351879791634889\n"
     ]
    }
   ],
   "source": [
    "print(\"Входные данные: \", tensor_for_standardization)\n",
    "print(\"Стандартизированный тензор:\\n\",\n",
    "      standardize_tensor(tensor_for_standardization))"
   ]
  },
  {
   "cell_type": "markdown",
   "metadata": {},
   "source": [
    "\n",
    "Задача 8\n",
    "Написать функцию, выделяющую часть матрицы фиксированного размера с центром в данном элементе (дополненное значением fill если необходимо)\n"
   ]
  },
  {
   "cell_type": "code",
   "execution_count": null,
   "metadata": {},
   "outputs": [],
   "source": [
    "def extract_submatrix(matrix, center, size, fill_value=0):\n",
    "    rows, cols = size\n",
    "    row_start = center[0] - rows // 2\n",
    "    col_start = center[1] - cols // 2\n",
    "    submatrix = np.full(size, fill_value)\n",
    "\n",
    "    for i in range(rows):\n",
    "        for j in range(cols):\n",
    "            source_row = row_start + i\n",
    "            source_col = col_start + j\n",
    "            if 0 <= source_row < matrix.shape[0] and 0 <= source_col < matrix.shape[1]:\n",
    "                submatrix[i, j] = matrix[source_row, source_col]\n",
    "    return submatrix"
   ]
  },
  {
   "cell_type": "code",
   "execution_count": 155,
   "metadata": {},
   "outputs": [
    {
     "name": "stdout",
     "output_type": "stream",
     "text": [
      "Входная матрица:\n",
      " [[8 0 8 8 4 8 4 4]\n",
      " [6 2 3 7 8 6 8 4]\n",
      " [5 8 8 5 8 0 5 7]\n",
      " [1 6 7 0 0 2 0 0]\n",
      " [0 4 6 3 5 7 7 6]\n",
      " [9 0 8 9 5 3 7 9]\n",
      " [5 0 8 2 2 9 2 1]\n",
      " [2 1 8 4 2 6 8 6]]\n",
      "Выделенная часть матрицы:\n",
      " [[0 0 2]\n",
      " [3 5 7]\n",
      " [9 5 3]]\n"
     ]
    }
   ],
   "source": [
    "print(\"Входная матрица:\\n\", matrix)\n",
    "cropped_matrix = extract_submatrix(matrix, center, size)\n",
    "print(\"Выделенная часть матрицы:\\n\", cropped_matrix)"
   ]
  },
  {
   "cell_type": "markdown",
   "metadata": {},
   "source": [
    "\n",
    "Задача 9\n",
    "Написать функцию, которая находит самое часто встречающееся число в каждой строке матрицы и возвращает массив этих значений\n"
   ]
  },
  {
   "cell_type": "code",
   "execution_count": null,
   "metadata": {},
   "outputs": [],
   "source": [
    "def counter_per_row(matrix):\n",
    "    most_frequent = []\n",
    "    for row in matrix:\n",
    "        counts = {}\n",
    "        for num in row:\n",
    "            if num in counts:\n",
    "                counts[num] += 1\n",
    "            else:\n",
    "                counts[num] = 1\n",
    "        # print(counts)\n",
    "        most_frequent.append(max(counts, key=counts.get))\n",
    "    return np.array(most_frequent)"
   ]
  },
  {
   "cell_type": "code",
   "execution_count": 170,
   "metadata": {},
   "outputs": [
    {
     "name": "stdout",
     "output_type": "stream",
     "text": [
      "Входная матрица:\n",
      " [[0 3 2 4 2 0 2 0 0 2]\n",
      " [4 0 4 4 1 4 1 0 1 0]\n",
      " [0 3 1 2 4 2 3 2 2 2]\n",
      " [2 1 2 4 0 0 2 3 1 1]\n",
      " [4 4 0 1 2 2 2 2 2 0]]\n",
      "Результат:\n",
      " [0 4 2 2 2]\n"
     ]
    }
   ],
   "source": [
    "print(\"Входная матрица:\\n\", matrix_for_counters)\n",
    "print(\"Результат:\\n\", counter_per_row(matrix_for_counters))"
   ]
  },
  {
   "cell_type": "markdown",
   "metadata": {},
   "source": [
    "\n",
    "Задача 10\n",
    "Дан трёхмерный массив, содержащий изображение, размера (height, width, numChannels), а также вектор длины numChannels. Написать функцию, которая складывает каналы изображения с указанными весами, и возвращает результат в виде матрицы размера (height, width)\n",
    "\n"
   ]
  },
  {
   "cell_type": "code",
   "execution_count": 198,
   "metadata": {},
   "outputs": [
    {
     "name": "stderr",
     "output_type": "stream",
     "text": [
      "Clipping input data to the valid range for imshow with RGB data ([0..1] for floats or [0..255] for integers). Got range [0.0..255.0].\n"
     ]
    },
    {
     "data": {
      "image/png": "[encoded data removed]",
      "text/plain": [
       "<Figure size 640x480 with 2 Axes>"
      ]
     },
     "metadata": {},
     "output_type": "display_data"
    }
   ],
   "source": [
    "def weighted_channel_sum(image, weights):\n",
    "    return np.tensordot(image, weights, axes=([2], [0]))\n",
    "\n",
    "\n",
    "weighted_image = weighted_channel_sum(circle_image, channel_weights)\n",
    "\n",
    "# print(image_array[0], \"\\n---------\\n\", weighted_image[0])\n",
    "# print(weighted_image)\n",
    "\n",
    "plt.subplot(121)\n",
    "plt.imshow(circle_image)\n",
    "plt.title(\"Исходное изображение\")\n",
    "plt.axis(\"off\")\n",
    "\n",
    "plt.subplot(122)\n",
    "plt.imshow(weighted_image)\n",
    "plt.title(\"Сложенные каналы изображения\")\n",
    "plt.axis(\"off\")\n",
    "plt.show()"
   ]
  }
 ],
 "metadata": {
  "kernelspec": {
   "display_name": "myenv",
   "language": "python",
   "name": "python3"
  },
  "language_info": {
   "codemirror_mode": {
    "name": "ipython",
    "version": 3
   },
   "file_extension": ".py",
   "mimetype": "text/x-python",
   "name": "python",
   "nbconvert_exporter": "python",
   "pygments_lexer": "ipython3",
   "version": "3.9.7"
  }
 },
 "nbformat": 4,
 "nbformat_minor": 2
}
