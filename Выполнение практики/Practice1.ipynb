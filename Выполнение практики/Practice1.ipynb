{
 "cells": [
  {
   "cell_type": "markdown",
   "id": "9eb22d22",
   "metadata": {},
   "source": [
    "# Практика№1 БВТ2102 Обыденков Константин"
   ]
  },
  {
   "cell_type": "markdown",
   "id": "58156528",
   "metadata": {},
   "source": [
    "Задача №1 - Подсчет гласных букв"
   ]
  },
  {
   "cell_type": "code",
   "execution_count": 1,
   "id": "18555922",
   "metadata": {},
   "outputs": [],
   "source": [
    "def count_vowels(s):\n",
    "    vowels = \"aeiou\"\n",
    "    return sum(1 for char in s.lower() if char in vowels)"
   ]
  },
  {
   "cell_type": "markdown",
   "id": "2fe85c3d",
   "metadata": {},
   "source": [
    "Задача №2 - Проверка уникальности символов в строке"
   ]
  },
  {
   "cell_type": "code",
   "execution_count": 2,
   "id": "c16cde2d",
   "metadata": {},
   "outputs": [],
   "source": [
    "def is_unique(s):\n",
    "    return len(s) == len(set(s))"
   ]
  },
  {
   "cell_type": "markdown",
   "id": "1f78bf9e",
   "metadata": {},
   "source": [
    "Задача №3 - Подсчет количества единичных битов"
   ]
  },
  {
   "cell_type": "code",
   "execution_count": 3,
   "id": "4c703feb",
   "metadata": {},
   "outputs": [],
   "source": [
    "def count_ones_in_binary(n):\n",
    "    return bin(n).count('1')"
   ]
  },
  {
   "cell_type": "markdown",
   "id": "2271188e",
   "metadata": {},
   "source": [
    "Задача №4 - Подсчет количества шагов перемножения цифр до однозначного числа"
   ]
  },
  {
   "cell_type": "code",
   "execution_count": 4,
   "id": "654fef79",
   "metadata": {},
   "outputs": [],
   "source": [
    "def persistence(num):\n",
    "    count = 0\n",
    "    while num >= 10:\n",
    "        product = 1\n",
    "        for digit in str(num):\n",
    "            product *= int(digit)\n",
    "        num = product\n",
    "        count += 1\n",
    "    return count"
   ]
  },
  {
   "cell_type": "markdown",
   "id": "b05e0561",
   "metadata": {},
   "source": [
    "Задача №5 - Среднеквадратическое отклонение двух векторов"
   ]
  },
  {
   "cell_type": "code",
   "execution_count": 5,
   "id": "bdf5dc44",
   "metadata": {},
   "outputs": [],
   "source": [
    "def rmse(vec1, vec2):\n",
    "    n = len(vec1)\n",
    "    mse = sum((vec1[i] - vec2[i]) ** 2 for i in range(n)) / n\n",
    "    return mse ** 0.5"
   ]
  },
  {
   "cell_type": "markdown",
   "id": "68141cda",
   "metadata": {},
   "source": [
    "Задача №6 - Математическое ожидание и стандартное отклонение"
   ]
  },
  {
   "cell_type": "code",
   "execution_count": 6,
   "id": "f5abfbb7",
   "metadata": {},
   "outputs": [],
   "source": [
    "def mean_and_stddev(numbers):\n",
    "    n = len(numbers)\n",
    "    mean = sum(numbers) / n\n",
    "    variance = sum((x - mean) ** 2 for x in numbers) / n\n",
    "    stddev = variance ** 0.5\n",
    "    return (mean, stddev)"
   ]
  },
  {
   "cell_type": "markdown",
   "id": "ec3896c0",
   "metadata": {},
   "source": [
    "Задача №7 - Разложение числа на простые множители"
   ]
  },
  {
   "cell_type": "code",
   "execution_count": 7,
   "id": "82a348e9",
   "metadata": {},
   "outputs": [],
   "source": [
    "def prime_factors(n):\n",
    "    i = 2\n",
    "    factors = {}\n",
    "    while i * i <= n:\n",
    "        while (n % i) == 0:\n",
    "            if i in factors:\n",
    "                factors[i] += 1\n",
    "            else:\n",
    "                factors[i] = 1\n",
    "            n //= i\n",
    "        i += 1\n",
    "    if n > 1:\n",
    "        factors[n] = 1\n",
    "    result = ''.join(f'({p}**{f})' if f > 1 else f'({p})' for p, f in factors.items())\n",
    "    return result"
   ]
  },
  {
   "cell_type": "markdown",
   "id": "d97a45b9",
   "metadata": {},
   "source": [
    "Задача №8 - Адрес сети и широковещательный адрес"
   ]
  },
  {
   "cell_type": "code",
   "execution_count": 8,
   "id": "291e1704",
   "metadata": {},
   "outputs": [],
   "source": [
    "def calculate_network_and_broadcast(ip, mask):\n",
    "    ip_octets = list(map(int, ip.split('.')))\n",
    "    mask_octets = list(map(int, mask.split('.')))\n",
    "    network = [ip_octets[i] & mask_octets[i] for i in range(4)]\n",
    "    broadcast = [network[i] | (255 - mask_octets[i]) for i in range(4)]\n",
    "    return '.'.join(map(str, network)), '.'.join(map(str, broadcast))"
   ]
  },
  {
   "cell_type": "markdown",
   "id": "785c7e77",
   "metadata": {},
   "source": [
    "Задача №9 - Определение возможности построения пирамиды из кубиков"
   ]
  },
  {
   "cell_type": "code",
   "execution_count": 9,
   "id": "320567c7",
   "metadata": {},
   "outputs": [],
   "source": [
    "def pyramid_blocks(n):\n",
    "    k, total = 0, 0\n",
    "    while total < n:\n",
    "        k += 1\n",
    "        total += k ** 2\n",
    "    return k if total == n else \"It is impossible\""
   ]
  },
  {
   "cell_type": "markdown",
   "id": "eb41ce2b",
   "metadata": {},
   "source": [
    "Задача №10 - Проверка сбалансированности числа"
   ]
  },
  {
   "cell_type": "code",
   "execution_count": 10,
   "id": "046bc90f",
   "metadata": {},
   "outputs": [],
   "source": [
    "def is_balanced(n):\n",
    "    s = str(n)\n",
    "    mid = len(s) // 2\n",
    "    if len(s) % 2 == 0:\n",
    "        return sum(int(s[i]) for i in range(mid)) == sum(int(s[i]) for i in range(mid, len(s)))\n",
    "    else:\n",
    "        return sum(int(s[i]) for i in range(mid)) == sum(int(s[i]) for i in range(mid + 1, len(s)))"
   ]
  },
  {
   "cell_type": "markdown",
   "id": "3910bd41",
   "metadata": {},
   "source": [
    "Задача №11 - Разбиение массива на две выборки"
   ]
  },
  {
   "cell_type": "code",
   "execution_count": 11,
   "id": "a5024b8b",
   "metadata": {},
   "outputs": [],
   "source": [
    "def split_dataset(M, r):\n",
    "    M = list(M)\n",
    "    class_data = {}\n",
    "    for row in M:\n",
    "        cls = row[0]\n",
    "        if cls not in class_data:\n",
    "            class_data[cls] = []\n",
    "        class_data[cls].append(row)\n",
    "\n",
    "    train, test = [], []\n",
    "    for cls, rows in class_data.items():\n",
    "        split_index = int(r * len(rows))\n",
    "        train.extend(rows[:split_index])\n",
    "        test.extend(rows[split_index:])\n",
    "        \n",
    "    return train, test"
   ]
  },
  {
   "cell_type": "markdown",
   "id": "3ffc964c",
   "metadata": {},
   "source": [
    "Выводим"
   ]
  },
  {
   "cell_type": "code",
   "execution_count": 12,
   "id": "3e15d675",
   "metadata": {},
   "outputs": [
    {
     "name": "stdout",
     "output_type": "stream",
     "text": [
      "Задание 1: Подсчет гласных с входными данными qwerty = 1\n",
      "Задание 2: Уникальные символы с входными данными abcdef = True\n",
      "Задание 3: Количество единиц в двоичной записи с входными данными 15 = 4\n",
      "Задание 4: Перемножение цифр с входными данными 999 = 4\n",
      "Задание 5: Среднеквадратическое отклонение с входными данными ([1, 2, 3], [4, 5, 6]) = 3.0\n",
      "Задание 6: Математическое ожидание и СКО с входными данными [1, 2, 3, 4, 5] = (3.0, 1.4142135623730951)\n",
      "Задание 7: Разложение на простые множители с входными данными 86240 = (2**5)(5)(7**2)(11)\n",
      "Задание 8: Сетевой и широковещательный адрес с входными данными ('192.168.1.10', '255.255.255.0') = ('192.168.1.0', '192.168.1.255')\n",
      "Задание 9: Пирамида из кубиков с входными данными 14 = 3\n",
      "Задание 10: Проверка сбалансированного числа с входными данными 123321 = True\n",
      "Задание 11: Разбиение массива с входными данными ([['a', 1, 2], ['a', 3, 4], ['b', 5, 6], ['b', 7, 8], ['c', 9, 10], ['c', 11, 12]], 0.5) = ([['a', 1, 2], ['b', 5, 6], ['c', 9, 10]], [['a', 3, 4], ['b', 7, 8], ['c', 11, 12]])\n"
     ]
    }
   ],
   "source": [
    "tasks = {\n",
    "    \"Подсчет гласных\": (count_vowels, \"qwerty\"),\n",
    "    \"Уникальные символы\": (is_unique, \"abcdef\"),\n",
    "    \"Количество единиц в двоичной записи\": (count_ones_in_binary, 15),\n",
    "    \"Перемножение цифр\": (persistence, 999),\n",
    "    \"Среднеквадратическое отклонение\": (rmse, ([1, 2, 3], [4, 5, 6])),\n",
    "    \"Математическое ожидание и СКО\": (mean_and_stddev, [1, 2, 3, 4, 5]),\n",
    "    \"Разложение на простые множители\": (prime_factors, 86240),\n",
    "    \"Сетевой и широковещательный адрес\": (calculate_network_and_broadcast, (\"192.168.1.10\", \"255.255.255.0\")),\n",
    "    \"Пирамида из кубиков\": (pyramid_blocks, 14),\n",
    "    \"Проверка сбалансированного числа\": (is_balanced, 123321),\n",
    "    \"Разбиение массива\": (split_dataset, ([[\"a\", 1, 2], [\"a\", 3, 4], [\"b\", 5, 6], [\"b\", 7, 8], [\"c\", 9, 10], [\"c\", 11, 12]], 0.5))\n",
    "}\n",
    "\n",
    "for i, (task_name, (func, args)) in enumerate(tasks.items(), 1):\n",
    "    result = func(*args) if isinstance(args, tuple) else func(args)\n",
    "    print(f\"Задание {i}: {task_name} с входными данными {args} = {result}\")"
   ]
  }
 ],
 "metadata": {
  "kernelspec": {
   "display_name": "base",
   "language": "python",
   "name": "python3"
  },
  "language_info": {
   "codemirror_mode": {
    "name": "ipython",
    "version": 3
   },
   "file_extension": ".py",
   "mimetype": "text/x-python",
   "name": "python",
   "nbconvert_exporter": "python",
   "pygments_lexer": "ipython3",
   "version": "3.9.7"
  }
 },
 "nbformat": 4,
 "nbformat_minor": 5
}
